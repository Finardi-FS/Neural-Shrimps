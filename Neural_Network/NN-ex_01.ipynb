{
 "cells": [
  {
   "cell_type": "markdown",
   "metadata": {},
   "source": [
    "# Neural Network - Exercise 01"
   ]
  },
  {
   "cell_type": "markdown",
   "metadata": {},
   "source": [
    "    python -m venv NN-venv\n",
    "    NN-venv\\Scripts\\activate\n",
    "    python.exe -m pip install --upgrade pip\n",
    "    pip install matplotlib numpy ipykernel jupyter\n",
    "    ipython kernel install --name \"NN-venv\" --user\n",
    "    https://queirozf.com/entries/jupyter-kernels-how-to-add-change-remove"
   ]
  },
  {
   "cell_type": "code",
   "execution_count": 1,
   "metadata": {},
   "outputs": [],
   "source": [
    "import numpy as np\n",
    "import pandas as pd\n",
    "from datetime import datetime\n",
    "import jupyprint.jupyprint as jp\n",
    "import matplotlib.pyplot as plt\n",
    "from scipy.io import loadmat, savemat\n",
    "# from graphviz import Digraph "
   ]
  },
  {
   "cell_type": "code",
   "execution_count": 2,
   "metadata": {},
   "outputs": [],
   "source": [
    "# List of flags to enable or disable parts of codes\n",
    "\n",
    "flag_trained_network    = False\n",
    "\n",
    "flag_my_init_pars       = True\n",
    "flag_training           = True\n",
    "flag_save               = False\n",
    "\n",
    "flag_testing            = True"
   ]
  },
  {
   "cell_type": "code",
   "execution_count": 3,
   "metadata": {},
   "outputs": [],
   "source": [
    "# Trained Network\n",
    "\n",
    "if flag_trained_network:\n",
    "    file_name = 'Trained_Network.mat'\n",
    "    # file_name = 'Trained_Network-(2024-05-01_19-31-24).mat'\n",
    "    mat_data = loadmat(file_name)\n",
    "\n",
    "    weights          = mat_data['Weight'][0]\n",
    "    correct_outputs  = mat_data['correct_Output'].T[0]\n",
    "    epoch            = mat_data['epoch'][0][0]\n",
    "    f_inputs         = mat_data['input']\n",
    "\n",
    "    jp('### Weights')\n",
    "    print(weights)\n",
    "    jp('### Correct Outputs')\n",
    "    print(correct_outputs)\n",
    "    jp('### Feature Inputs')\n",
    "    print(f_inputs)\n",
    "    jp('### Epoch')\n",
    "    print(epoch)"
   ]
  },
  {
   "cell_type": "markdown",
   "metadata": {},
   "source": [
    "## Sigmoid Function\n",
    "\n",
    "$\\text{Sigmoid}(x)=\\dfrac{1}{1+e^{-x}}$\n",
    "\n",
    "$\\dfrac{\\partial}{\\partial x}\\left[\\text{Sigmoid}(x)\\right]=\\dfrac{e^{-x}}{(1+e^{-x})^2}=\\dfrac{1}{1+e^{-x}}\\cdot\\left(1-\\dfrac{1}{1+e^{-x}}\\right)$"
   ]
  },
  {
   "cell_type": "code",
   "execution_count": 4,
   "metadata": {},
   "outputs": [],
   "source": [
    "# Sigmoid Function\n",
    "\n",
    "def Sigmoid(x):\n",
    "    return 1 / (1 + np.exp(-x))"
   ]
  },
  {
   "cell_type": "markdown",
   "metadata": {},
   "source": [
    "## Stochastic Gradient Descent\n",
    "$w'_i=w_i-\\text{LR}\\cdot\\frac{\\partial f_{cost}}{\\partial w_i}=w_i-\\text{LR}\\cdot\\frac{\\partial f_{cost}}{\\partial P}\\cdot\\frac{\\partial P}{\\partial t}\\cdot\\frac{\\partial t}{\\partial w_i}$ \n",
    "\n",
    "Con:\n",
    "- $w_i$: Peso della i-esima feature\n",
    "- $\\text{LR}$: Learning Rate\n",
    "- $f_{cost}$: Funzione di costo\n",
    "- $t$: Combinazione lineare delle feature pesate \n",
    "- $P$: Combinazione lineare normalizzata con la sigmoid"
   ]
  },
  {
   "cell_type": "code",
   "execution_count": 5,
   "metadata": {},
   "outputs": [],
   "source": [
    "# Stochastic Gradient Descent\n",
    "\n",
    "def SGD_method(weights, dataset, correct_output, LR = 0.9):\n",
    "                                                                    # weight:           vettore dei pesi relativi alle feature\n",
    "                                                                    # f_input:          dataset contenente i valori delle feature per ciascun campione\n",
    "                                                                    # correct_output:   vettore dei valori attesi per ciascun campione\n",
    "                                                                    # LR:               learning rate\n",
    "\n",
    "    for k in range(len(dataset)):                                   # ciclo sui campioni\n",
    "        \n",
    "        sample = dataset[k]                                         # prendo i valori delle feature del k-esimo campione\n",
    "        expected = correct_output[k]                                # prendo il valore atteso del k-esimo campione\n",
    "        lin_comb = weights @ sample                                 # combinazione lineare delle feature pesate per il k-esimo campione\n",
    "        predicted = Sigmoid(lin_comb)                               # normalizzazione della comb. lin. attraverso la funzione Sigmoid         \n",
    "        cost_function_der = 2 * (predicted - expected)              # derivata della funzione di costo (rispetto alla variabile predicted) \n",
    "                                                                    # relativa alla metrica Squared Error Cost                         \n",
    "        sigmoid_der = predicted * (1 - predicted)                   # derivata del sigmoid rispetto a lin_comb\n",
    "        lc_der = sample                                             # vettore di derivate di lin_comb rispetto ai pesi w (e al bias b)\n",
    "\n",
    "        dWeights = LR * cost_function_der * sigmoid_der * lc_der    # termine differenziale di aggiustamento per ricavare i nuovi pesi\n",
    "        weights -= dWeights                                         # correzione dei pesi\n",
    "\n",
    "    return weights"
   ]
  },
  {
   "cell_type": "markdown",
   "metadata": {},
   "source": [
    "## Training"
   ]
  },
  {
   "cell_type": "code",
   "execution_count": 6,
   "metadata": {},
   "outputs": [],
   "source": [
    "# initial parameters\n",
    "\n",
    "if flag_my_init_pars:\n",
    "    weights          = 2 * np.random.rand(3) - 1                # crea una matrice 1x3 con numeri casuali tra -1 e 1\n",
    "    correct_outputs  = np.array([0, 0, 1, 1])               \n",
    "    epoch            = 1000\n",
    "    f_inputs         = np.array([[0, 0, 1],\n",
    "                                 [0, 1, 1],\n",
    "                                 [1, 0, 1],\n",
    "                                 [1, 1, 1]])"
   ]
  },
  {
   "cell_type": "code",
   "execution_count": 7,
   "metadata": {},
   "outputs": [],
   "source": [
    "# Allena il modello in base all'epoca scelta \n",
    "if flag_training:\n",
    "    container_w = np.array([weights])\n",
    "    for e in range(epoch):\n",
    "        weights = SGD_method(weights, f_inputs, correct_outputs)\n",
    "        container_w = np.vstack((container_w, weights))\n",
    "    # Salva modello\n",
    "    Trained_Network = {\n",
    "        \"Weight\"         : weights,\n",
    "        \"correct_Output\" : correct_outputs.T,\n",
    "        \"epoch\"          : [[epoch]],\n",
    "        \"input\"          : f_inputs\n",
    "    }"
   ]
  },
  {
   "cell_type": "code",
   "execution_count": null,
   "metadata": {},
   "outputs": [],
   "source": [
    "if flag_save:\n",
    "    date = datetime.now().strftime(\"%Y-%m-%d_%H-%M-%S\")\n",
    "    file_name = f'Trained_Network-[{date}].mat'\n",
    "    savemat(file_name, Trained_Network)"
   ]
  },
  {
   "cell_type": "code",
   "execution_count": 8,
   "metadata": {},
   "outputs": [
    {
     "data": {
      "image/png": "[encoded data removed]",
      "text/plain": [
       "<Figure size 1200x800 with 1 Axes>"
      ]
     },
     "metadata": {},
     "output_type": "display_data"
    }
   ],
   "source": [
    "if flag_training:\n",
    "    def cost_func(x, x0):\n",
    "        return (x - x0)**2\n",
    "\n",
    "    x = np.linspace(0, 1, 1000)  \n",
    "    x0 = 0\n",
    "\n",
    "    plt.figure(figsize=(12,8))\n",
    "\n",
    "    plt.grid()\n",
    "    plt.plot(x, cost_func(x, x0))\n",
    "\n",
    "    P = Sigmoid(container_w @ f_inputs[0])\n",
    "    E = np.ones(len(P)) * correct_outputs[0]\n",
    "    plt.scatter(E[0],0, color='red', linewidth=8)\n",
    "    plt.plot(P, cost_func(P, E), marker = 'o')\n",
    "    plt.title('Cost function minimization')\n",
    "    plt.show()"
   ]
  },
  {
   "cell_type": "markdown",
   "metadata": {},
   "source": [
    "## Testing"
   ]
  },
  {
   "cell_type": "code",
   "execution_count": 9,
   "metadata": {},
   "outputs": [
    {
     "name": "stdout",
     "output_type": "stream",
     "text": [
      "input  1\n",
      "Output corretto :  0 , Predetto :  0.023297351551457134\n",
      "input  2\n",
      "Output corretto :  0 , Predetto :  0.01891305186444052\n",
      "input  3\n",
      "Output corretto :  1 , Predetto :  0.9846481080613296\n",
      "input  4\n",
      "Output corretto :  1 , Predetto :  0.9810734075493219\n"
     ]
    }
   ],
   "source": [
    "if flag_testing:\n",
    "       file_name_trained = file_name\n",
    "       mat_data = loadmat(file_name_trained)\n",
    "\n",
    "       weights          = mat_data['Weight'][0]\n",
    "       correct_outputs  = mat_data['correct_Output'].T\n",
    "       epoch            = mat_data['epoch'][0][0]\n",
    "       f_inputs         = mat_data['input']\n",
    "\n",
    "       # Ciclo sui 4 vettori di input\n",
    "       for k in range(len(f_inputs)):                       \n",
    "              weighted_sum = weights @ f_inputs[k]  # Prodotto scalare tra pesi allenati e input\n",
    "              predicted = Sigmoid(weighted_sum) \n",
    "              \n",
    "              print('input ', k+1)\n",
    "              print('Output corretto : ', correct_outputs[k,0], ', Predetto : ', predicted)"
   ]
  }
 ],
 "metadata": {
  "kernelspec": {
   "display_name": "NN-venv",
   "language": "python",
   "name": "nn-venv"
  },
  "language_info": {
   "codemirror_mode": {
    "name": "ipython",
    "version": 3
   },
   "file_extension": ".py",
   "mimetype": "text/x-python",
   "name": "python",
   "nbconvert_exporter": "python",
   "pygments_lexer": "ipython3",
   "version": "3.12.0"
  }
 },
 "nbformat": 4,
 "nbformat_minor": 2
}
