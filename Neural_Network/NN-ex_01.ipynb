{
 "cells": [
  {
   "cell_type": "markdown",
   "metadata": {},
   "source": [
    "# Neural Network - Exercise 01"
   ]
  },
  {
   "cell_type": "code",
   "execution_count": null,
   "metadata": {},
   "outputs": [],
   "source": [
    "import numpy as np"
   ]
  },
  {
   "cell_type": "code",
   "execution_count": null,
   "metadata": {},
   "outputs": [],
   "source": [
    "def SGD_method(weight, f_input, correct_output):\n",
    "# weight:           vettore dei pesi relativi alle feature\n",
    "# f_input:          dataset contenente i valori delle feature per ciascun campione\n",
    "# correct_output:   vettore dei valori attesi per ciascun campione\n",
    "\n",
    "    LR = 0.9    # learning rate\n",
    "    N  = 4      # numero di epoche\n",
    "\n",
    "    for k in range(1, N+1):                                 # ciclo sui campioni\n",
    "        transposed_input = f_input[k, :]                    # prendo i valori delle feature relativi al campione k-esimo\n",
    "        expected = correct_output[k]                        # prendo il valore atteso del k-esimo campione\n",
    "        lin_comb = weight * transposed_input                # combinazione lineare delle feature pesate\n",
    "        predicted = Sigmoid(lin_comb)                       # normalizzazione della comb. lin. attraverso la funzione Sigmoid         \n",
    "        cost_function_der = expected - predicted            # derivata della funzione di costo relativa alla metrica Squared Error Cost (dimezzata)                          \n",
    "        delta = predicted*(1-predicted)*cost_function_der   # derivata di Sigmoid*Cost_function\n",
    "\n",
    "\n",
    "        # (sigmoid)^2 * e^-x = p^2\n",
    "\n",
    "        # p*(p-e)^2 = "
   ]
  },
  {
   "cell_type": "code",
   "execution_count": null,
   "metadata": {},
   "outputs": [],
   "source": [
    "# function Weight = SGD_method(Weight, input, correct_Output)\n",
    "#                                                                                 %input 3 neurons\n",
    "                                                                                \n",
    "#     LR = 0.9;\n",
    "#     N = 4;\n",
    "#     for k=1:N\n",
    "#        transposed_Input = input(k, :)';\n",
    "#        expected = correct_Output(k);\n",
    "#        lin_comb = Weight*transposed_Input;\n",
    "#        predicted = Sigmoid(lin_comb);                                    \n",
    "#        cost_function_der = expected - predicted;                               % cost_function_der is derivate of cost function\n",
    "#        delta = predicted*(1-predicted)*cost_function_;                         % delta is derivate of sigmoid*cost_function \n",
    "#                                                                                % derivate of the sigmoid is sigmoid*(1-sigmoid)\n",
    "#        dWeight = LR*delta*transposed_Input;                                    % dWeigth = LR*derivate(cost_function) = LR*(delta*input)\n",
    "#                                                                                % weight correction given by learning rate\n",
    "#                                                                                % multiplied by delta and the transposed input\n",
    "#        Weight(1) = Weight(1) + dWeight(1);\n",
    "#        Weight(2) = Weight(2) + dWeight(2);\n",
    "#        Weight(3) = Weight(3) + dWeight(3);\n",
    "#     end\n",
    "# end"
   ]
  }
 ],
 "metadata": {
  "kernelspec": {
   "display_name": "Python 3",
   "language": "python",
   "name": "python3"
  },
  "language_info": {
   "codemirror_mode": {
    "name": "ipython",
    "version": 3
   },
   "file_extension": ".py",
   "mimetype": "text/x-python",
   "name": "python",
   "nbconvert_exporter": "python",
   "pygments_lexer": "ipython3",
   "version": "3.12.0"
  }
 },
 "nbformat": 4,
 "nbformat_minor": 2
}
