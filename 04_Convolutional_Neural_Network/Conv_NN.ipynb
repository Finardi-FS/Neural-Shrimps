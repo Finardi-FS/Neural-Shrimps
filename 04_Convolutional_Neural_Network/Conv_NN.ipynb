{
 "cells": [
  {
   "cell_type": "markdown",
   "metadata": {},
   "source": [
    "# Convolutional Neural Network"
   ]
  },
  {
   "cell_type": "code",
   "execution_count": 38,
   "metadata": {},
   "outputs": [],
   "source": [
    "import sys\n",
    "sys.path.insert(1, '../00_Classes')\n",
    "import numpy as np\n",
    "import pandas as pd\n",
    "from datetime import datetime\n",
    "import jupyprint.jupyprint as jp\n",
    "import matplotlib.pyplot as plt\n",
    "\n",
    "import CNN_Class\n",
    "\n",
    "CNN = CNN_Class.MyCNN()"
   ]
  },
  {
   "cell_type": "markdown",
   "metadata": {},
   "source": [
    "## Train and Test Mnist Conv"
   ]
  },
  {
   "cell_type": "code",
   "execution_count": 39,
   "metadata": {},
   "outputs": [
    {
     "ename": "NameError",
     "evalue": "name 'loadMNISTImages' is not defined",
     "output_type": "error",
     "traceback": [
      "\u001b[0;31m---------------------------------------------------------------------------\u001b[0m",
      "\u001b[0;31mNameError\u001b[0m                                 Traceback (most recent call last)",
      "Cell \u001b[0;32mIn[39], line 4\u001b[0m\n\u001b[1;32m      1\u001b[0m \u001b[38;5;28;01mimport\u001b[39;00m \u001b[38;5;21;01mnumpy\u001b[39;00m \u001b[38;5;28;01mas\u001b[39;00m \u001b[38;5;21;01mnp\u001b[39;00m\n\u001b[1;32m      3\u001b[0m \u001b[38;5;66;03m# Load data\u001b[39;00m\n\u001b[0;32m----> 4\u001b[0m Images \u001b[38;5;241m=\u001b[39m \u001b[43mloadMNISTImages\u001b[49m(\u001b[38;5;124m'\u001b[39m\u001b[38;5;124mMNIST/t10k-images.idx3-ubyte\u001b[39m\u001b[38;5;124m'\u001b[39m)\n\u001b[1;32m      5\u001b[0m Labels \u001b[38;5;241m=\u001b[39m loadMNISTLabels(\u001b[38;5;124m'\u001b[39m\u001b[38;5;124mMNIST/t10k-labels.idx1-ubyte\u001b[39m\u001b[38;5;124m'\u001b[39m)\n\u001b[1;32m      7\u001b[0m np\u001b[38;5;241m.\u001b[39mrandom\u001b[38;5;241m.\u001b[39mseed(\u001b[38;5;241m1\u001b[39m)\n",
      "\u001b[0;31mNameError\u001b[0m: name 'loadMNISTImages' is not defined"
     ]
    }
   ],
   "source": [
    "import numpy as np\n",
    "\n",
    "# Load data\n",
    "Images = loadMNISTImages('MNIST/t10k-images.idx3-ubyte')\n",
    "Labels = loadMNISTLabels('MNIST/t10k-labels.idx1-ubyte')\n",
    "\n",
    "np.random.seed(1)\n",
    "\n",
    "W1 = 1e-2 * np.random.randn(9, 9, 20)\n",
    "W5 = (2 * np.random.rand(100, 2000) - 1) * np.sqrt(6) / np.sqrt(360 + 2000)\n",
    "Wo = (2 * np.random.rand(10, 100) - 1) * np.sqrt(6) / np.sqrt(10 + 100)\n",
    "\n",
    "X = Images[:, :, :7000]\n",
    "D = Labels[:7000]\n",
    "\n",
    "# Training\n",
    "for epoch in range(10):\n",
    "    print(\"Epoch:\", epoch + 1)\n",
    "    W1, W5, Wo = SGD_MnistConv(W1, W5, Wo, X, D)\n",
    "\n",
    "# Save model weights\n",
    "with h5py.File('MnistConv.h5', 'w') as hf:\n",
    "    hf.create_dataset('W1', data=W1)\n",
    "    hf.create_dataset('W5', data=W5)\n",
    "    hf.create_dataset('Wo', data=Wo)\n",
    "\n",
    "# Evaluation\n",
    "X_test = Images[:, :, 7001:10000]\n",
    "D_test = Labels[7001:10000]\n",
    "acc = 0\n",
    "N = len(D_test)\n",
    "\n",
    "for k in range(N):\n",
    "    print(\"Sample:\", k + 1)\n",
    "    x = X_test[:, :, k]\n",
    "    y1 = Conv(x, W1)\n",
    "    y2 = ReLU(y1)\n",
    "    y3 = Pool(y2)\n",
    "    y4 = y3.flatten()\n",
    "    v5 = np.dot(W5, y4)\n",
    "    y5 = ReLU(v5)\n",
    "    v = np.dot(Wo, y5)\n",
    "    y = Softmax(v)\n",
    "    \n",
    "    i = np.argmax(y)\n",
    "    if i == D_test[k]:\n",
    "        acc += 1\n",
    "\n",
    "acc = acc / N\n",
    "print('Accuracy is %f' % acc)\n"
   ]
  },
  {
   "cell_type": "raw",
   "metadata": {
    "vscode": {
     "languageId": "raw"
    }
   },
   "source": [
    "loadMNISTImages.m\n",
    "\n",
    "THE IDX FILE FORMAT\n",
    "the IDX file format is a simple format for vectors and multidimensional matrices of various numerical types.\n",
    "The basic format is\n",
    "\n",
    "magic number\n",
    "size in dimension 0\n",
    "size in dimension 1\n",
    "size in dimension 2\n",
    ".....\n",
    "size in dimension N\n",
    "data\n",
    "\n",
    "The magic number is an integer (MSB first). The first 2 bytes are always 0.\n",
    "\n",
    "The third byte codes the type of the data:\n",
    "0x08: unsigned byte\n",
    "0x09: signed byte\n",
    "0x0B: short (2 bytes)\n",
    "0x0C: int (4 bytes)\n",
    "0x0D: float (4 bytes)\n",
    "0x0E: double (8 bytes)\n",
    "\n",
    "The 4-th byte codes the number of dimensions of the vector/matrix: 1 for vectors, 2 for matrices....\n",
    "\n",
    "The sizes in each dimension are 4-byte integers (MSB first, high endian, like in most non-Intel processors).\n",
    "\n",
    "The data is stored like in a C array, i.e. the index in the last dimension changes the fastest.\n",
    " \n",
    " \n",
    "Happy hacking."
   ]
  },
  {
   "cell_type": "code",
   "execution_count": 40,
   "metadata": {},
   "outputs": [],
   "source": [
    "import numpy as np\n",
    "import gzip\n",
    "\n",
    "def load_MNIST_images(filename):\n",
    "\twith gzip.open(filename, 'r') as f:\n",
    "\t\t# first 4 bytes is a magic number\n",
    "\t\tmagic_number    = int.from_bytes(f.read(4), 'big')\n",
    "\t\t# second 4 bytes is the number of images\n",
    "\t\timage_count     = int.from_bytes(f.read(4), 'big')\n",
    "\t\t# third 4 bytes is the row count\n",
    "\t\trow_count       = int.from_bytes(f.read(4), 'big')\n",
    "\t\t# fourth 4 bytes is the column count\n",
    "\t\tcolumn_count    = int.from_bytes(f.read(4), 'big')\n",
    "\t\t\n",
    "\t\t# rest is the image pixel data, each pixel is stored as an unsigned byte\n",
    "\t\t# pixel values are 0 to 255\n",
    "\t\timages = np.frombuffer(f.read(), dtype=np.uint8)\\\n",
    "\t\t\t.reshape((image_count, row_count, column_count))\n",
    "\t# images.shape --> (10000, 28, 28)\n",
    "\treturn images\n",
    "\n",
    "\n",
    "def load_MNIST_labels(filename):\n",
    "\twith gzip.open(filename, 'r') as f:\n",
    "\t\t# first 4 bytes is a magic number\n",
    "\t\tmagic_number    = int.from_bytes(f.read(4), 'big')\n",
    "\t\t# second 4 bytes is the number of labels\n",
    "\t\tlabel_count     = int.from_bytes(f.read(4), 'big')\n",
    "\t\t\n",
    "\t\t# rest is the label data, each label is stored as unsigned byte\n",
    "\t\t# label values are 0 to 9\n",
    "\t\tlabel_data      = f.read()\n",
    "\t\tlabels = np.frombuffer(label_data, dtype=np.uint8)\n",
    "\t# labels.shape --> (10000,)\n",
    "\treturn labels\n",
    "\n",
    "images = load_MNIST_images('t10k-images-idx3-ubyte.gz')\n",
    "labels = load_MNIST_labels('t10k-labels-idx1-ubyte.gz')"
   ]
  },
  {
   "cell_type": "code",
   "execution_count": 41,
   "metadata": {},
   "outputs": [
    {
     "name": "stdout",
     "output_type": "stream",
     "text": [
      "images shape (10000, 28, 28)\n",
      "labels shape (10000,)\n"
     ]
    }
   ],
   "source": [
    "print('images shape', images.shape)\n",
    "print('labels shape', labels.shape)"
   ]
  },
  {
   "cell_type": "code",
   "execution_count": 42,
   "metadata": {},
   "outputs": [
    {
     "data": {
      "image/png": "[encoded data removed]",
      "text/plain": [
       "<Figure size 640x480 with 1 Axes>"
      ]
     },
     "metadata": {},
     "output_type": "display_data"
    }
   ],
   "source": [
    "import matplotlib.pyplot as plt\n",
    "# image = np.asarray(images[0]).squeeze()\n",
    "plt.imshow(images[9999])\n",
    "plt.show()"
   ]
  },
  {
   "cell_type": "markdown",
   "metadata": {},
   "source": [
    "Pool"
   ]
  },
  {
   "cell_type": "code",
   "execution_count": 43,
   "metadata": {},
   "outputs": [
    {
     "name": "stdout",
     "output_type": "stream",
     "text": [
      "[[1. 1. 1. 3. 3. 3.]\n",
      " [1. 1. 1. 3. 3. 3.]\n",
      " [1. 1. 1. 3. 3. 3.]\n",
      " [0. 0. 0. 2. 2. 2.]\n",
      " [0. 0. 0. 2. 2. 2.]\n",
      " [0. 0. 0. 2. 2. 2.]]\n",
      "[[1.  2.  3. ]\n",
      " [0.5 1.5 2.5]\n",
      " [0.  1.  2. ]]\n"
     ]
    }
   ],
   "source": [
    "from scipy.signal import convolve2d\n",
    "\n",
    "def Pool(x):\n",
    "    xrow, xcol, numFilters = x.shape\n",
    "    y = np.zeros((xrow // 2, xcol // 2, numFilters))  # Divisione intera per 2\n",
    "    \n",
    "    for k in range(numFilters):\n",
    "        filter = np.ones((2, 2)) / (2 * 2)\n",
    "        image = convolve2d(x[:, :, k], filter, mode='valid')\n",
    "        y[:, :, k] = image[0::2, 0::2]  # prendo la media e la metto nel pixel che scelgo ogni 4\n",
    "        \n",
    "    return y\n",
    "\n",
    "# Esempio di utilizzo:\n",
    "x = np.zeros((6, 6, 3))\n",
    "\n",
    "for i in range(6) :\n",
    "    for j in range(6):\n",
    "        if i < 3 and j < 3:\n",
    "            x[i,j,:] = 1\n",
    "        elif i >= 3 and j >= 3:\n",
    "            x[i,j,:] = 2\n",
    "        elif i < 3 and j >= 3:\n",
    "            x[i,j,:] = 3\n",
    "\n",
    "y = Pool(x)\n",
    "print(x[:,:,0])\n",
    "print(y[:,:,0])\n"
   ]
  },
  {
   "cell_type": "markdown",
   "metadata": {},
   "source": [
    "conv"
   ]
  },
  {
   "cell_type": "code",
   "execution_count": 44,
   "metadata": {},
   "outputs": [
    {
     "name": "stdout",
     "output_type": "stream",
     "text": [
      "W  [[[1. 1. 1.]\n",
      "  [1. 1. 1.]]\n",
      "\n",
      " [[1. 1. 1.]\n",
      "  [1. 1. 1.]]]\n",
      "x  [[1. 1. 1. 3. 3. 3.]\n",
      " [1. 1. 1. 3. 3. 3.]\n",
      " [1. 1. 1. 3. 3. 3.]\n",
      " [0. 0. 0. 2. 2. 2.]\n",
      " [0. 0. 0. 2. 2. 2.]\n",
      " [0. 0. 0. 2. 2. 2.]]\n",
      "y  [[[ 4.  4.  4.]\n",
      "  [ 4.  4.  4.]\n",
      "  [ 8.  8.  8.]\n",
      "  [12. 12. 12.]\n",
      "  [12. 12. 12.]]\n",
      "\n",
      " [[ 4.  4.  4.]\n",
      "  [ 4.  4.  4.]\n",
      "  [ 8.  8.  8.]\n",
      "  [12. 12. 12.]\n",
      "  [12. 12. 12.]]\n",
      "\n",
      " [[ 2.  2.  2.]\n",
      "  [ 2.  2.  2.]\n",
      "  [ 6.  6.  6.]\n",
      "  [10. 10. 10.]\n",
      "  [10. 10. 10.]]\n",
      "\n",
      " [[ 0.  0.  0.]\n",
      "  [ 0.  0.  0.]\n",
      "  [ 4.  4.  4.]\n",
      "  [ 8.  8.  8.]\n",
      "  [ 8.  8.  8.]]\n",
      "\n",
      " [[ 0.  0.  0.]\n",
      "  [ 0.  0.  0.]\n",
      "  [ 4.  4.  4.]\n",
      "  [ 8.  8.  8.]\n",
      "  [ 8.  8.  8.]]]\n"
     ]
    }
   ],
   "source": [
    "def Conv(x, W):\n",
    "    wrow, wcol, numFilters = W.shape\n",
    "    xrow, xcol, _ = x.shape\n",
    "\n",
    "    yrow = xrow - wrow + 1\n",
    "    ycol = xcol - wcol + 1\n",
    "\n",
    "    y = np.zeros((yrow, ycol, numFilters))\n",
    "\n",
    "    for k in range(numFilters):\n",
    "        filter = W[:, :, k]\n",
    "        filter = np.rot90(filter, 2)\n",
    "        y[:, :, k] = convolve2d(x[:, :, k], filter, mode='valid')\n",
    "\n",
    "    return y\n",
    "\n",
    "# Esempio di utilizzo:\n",
    "x = np.zeros((6, 6, 3))\n",
    "\n",
    "for i in range(6) :\n",
    "    for j in range(6):\n",
    "        if i < 3 and j < 3:\n",
    "            x[i,j,:] = 1\n",
    "        elif i >= 3 and j >= 3:\n",
    "            x[i,j,:] = 2\n",
    "        elif i < 3 and j >= 3:\n",
    "            x[i,j,:] = 3\n",
    "\n",
    "\n",
    "W = np.ones((2, 2, 3))\n",
    "\n",
    "y = Conv(x, W)\n",
    "\n",
    "print('W ', W)\n",
    "print('x ', x[:,:,0])\n",
    "print('y ', y[:,:,:])"
   ]
  },
  {
   "cell_type": "markdown",
   "metadata": {},
   "source": [
    "plot features"
   ]
  },
  {
   "cell_type": "code",
   "execution_count": 46,
   "metadata": {},
   "outputs": [
    {
     "ename": "FileNotFoundError",
     "evalue": "[Errno 2] No such file or directory: 'MnistConv.mat'",
     "output_type": "error",
     "traceback": [
      "\u001b[0;31m---------------------------------------------------------------------------\u001b[0m",
      "\u001b[0;31mFileNotFoundError\u001b[0m                         Traceback (most recent call last)",
      "File \u001b[0;32m~/Documents/Uni/Magistrale/Applicazioni_Machine_Learning/Neural-Shrimps/NN-venv/lib/python3.10/site-packages/scipy/io/matlab/_mio.py:39\u001b[0m, in \u001b[0;36m_open_file\u001b[0;34m(file_like, appendmat, mode)\u001b[0m\n\u001b[1;32m     38\u001b[0m \u001b[38;5;28;01mtry\u001b[39;00m:\n\u001b[0;32m---> 39\u001b[0m     \u001b[38;5;28;01mreturn\u001b[39;00m \u001b[38;5;28;43mopen\u001b[39;49m\u001b[43m(\u001b[49m\u001b[43mfile_like\u001b[49m\u001b[43m,\u001b[49m\u001b[43m \u001b[49m\u001b[43mmode\u001b[49m\u001b[43m)\u001b[49m, \u001b[38;5;28;01mTrue\u001b[39;00m\n\u001b[1;32m     40\u001b[0m \u001b[38;5;28;01mexcept\u001b[39;00m \u001b[38;5;167;01mOSError\u001b[39;00m \u001b[38;5;28;01mas\u001b[39;00m e:\n\u001b[1;32m     41\u001b[0m     \u001b[38;5;66;03m# Probably \"not found\"\u001b[39;00m\n",
      "\u001b[0;31mFileNotFoundError\u001b[0m: [Errno 2] No such file or directory: 'MnistConv.mat'",
      "\nDuring handling of the above exception, another exception occurred:\n",
      "\u001b[0;31mFileNotFoundError\u001b[0m                         Traceback (most recent call last)",
      "Cell \u001b[0;32mIn[46], line 7\u001b[0m\n\u001b[1;32m      4\u001b[0m \u001b[38;5;28;01mfrom\u001b[39;00m \u001b[38;5;21;01mscipy\u001b[39;00m\u001b[38;5;21;01m.\u001b[39;00m\u001b[38;5;21;01msignal\u001b[39;00m \u001b[38;5;28;01mimport\u001b[39;00m convolve2d\n\u001b[1;32m      6\u001b[0m \u001b[38;5;66;03m# Carica i dati dal file .mat\u001b[39;00m\n\u001b[0;32m----> 7\u001b[0m data \u001b[38;5;241m=\u001b[39m \u001b[43msio\u001b[49m\u001b[38;5;241;43m.\u001b[39;49m\u001b[43mloadmat\u001b[49m\u001b[43m(\u001b[49m\u001b[38;5;124;43m'\u001b[39;49m\u001b[38;5;124;43mMnistConv.mat\u001b[39;49m\u001b[38;5;124;43m'\u001b[39;49m\u001b[43m)\u001b[49m\n\u001b[1;32m      8\u001b[0m X \u001b[38;5;241m=\u001b[39m data[\u001b[38;5;124m'\u001b[39m\u001b[38;5;124mX\u001b[39m\u001b[38;5;124m'\u001b[39m]\n\u001b[1;32m      9\u001b[0m W1 \u001b[38;5;241m=\u001b[39m data[\u001b[38;5;124m'\u001b[39m\u001b[38;5;124mW1\u001b[39m\u001b[38;5;124m'\u001b[39m]\n",
      "File \u001b[0;32m~/Documents/Uni/Magistrale/Applicazioni_Machine_Learning/Neural-Shrimps/NN-venv/lib/python3.10/site-packages/scipy/io/matlab/_mio.py:225\u001b[0m, in \u001b[0;36mloadmat\u001b[0;34m(file_name, mdict, appendmat, **kwargs)\u001b[0m\n\u001b[1;32m     88\u001b[0m \u001b[38;5;250m\u001b[39m\u001b[38;5;124;03m\"\"\"\u001b[39;00m\n\u001b[1;32m     89\u001b[0m \u001b[38;5;124;03mLoad MATLAB file.\u001b[39;00m\n\u001b[1;32m     90\u001b[0m \n\u001b[0;32m   (...)\u001b[0m\n\u001b[1;32m    222\u001b[0m \u001b[38;5;124;03m    3.14159265+3.14159265j])\u001b[39;00m\n\u001b[1;32m    223\u001b[0m \u001b[38;5;124;03m\"\"\"\u001b[39;00m\n\u001b[1;32m    224\u001b[0m variable_names \u001b[38;5;241m=\u001b[39m kwargs\u001b[38;5;241m.\u001b[39mpop(\u001b[38;5;124m'\u001b[39m\u001b[38;5;124mvariable_names\u001b[39m\u001b[38;5;124m'\u001b[39m, \u001b[38;5;28;01mNone\u001b[39;00m)\n\u001b[0;32m--> 225\u001b[0m \u001b[38;5;28;01mwith\u001b[39;00m _open_file_context(file_name, appendmat) \u001b[38;5;28;01mas\u001b[39;00m f:\n\u001b[1;32m    226\u001b[0m     MR, _ \u001b[38;5;241m=\u001b[39m mat_reader_factory(f, \u001b[38;5;241m*\u001b[39m\u001b[38;5;241m*\u001b[39mkwargs)\n\u001b[1;32m    227\u001b[0m     matfile_dict \u001b[38;5;241m=\u001b[39m MR\u001b[38;5;241m.\u001b[39mget_variables(variable_names)\n",
      "File \u001b[0;32m/usr/lib/python3.10/contextlib.py:135\u001b[0m, in \u001b[0;36m_GeneratorContextManager.__enter__\u001b[0;34m(self)\u001b[0m\n\u001b[1;32m    133\u001b[0m \u001b[38;5;28;01mdel\u001b[39;00m \u001b[38;5;28mself\u001b[39m\u001b[38;5;241m.\u001b[39margs, \u001b[38;5;28mself\u001b[39m\u001b[38;5;241m.\u001b[39mkwds, \u001b[38;5;28mself\u001b[39m\u001b[38;5;241m.\u001b[39mfunc\n\u001b[1;32m    134\u001b[0m \u001b[38;5;28;01mtry\u001b[39;00m:\n\u001b[0;32m--> 135\u001b[0m     \u001b[38;5;28;01mreturn\u001b[39;00m \u001b[38;5;28;43mnext\u001b[39;49m\u001b[43m(\u001b[49m\u001b[38;5;28;43mself\u001b[39;49m\u001b[38;5;241;43m.\u001b[39;49m\u001b[43mgen\u001b[49m\u001b[43m)\u001b[49m\n\u001b[1;32m    136\u001b[0m \u001b[38;5;28;01mexcept\u001b[39;00m \u001b[38;5;167;01mStopIteration\u001b[39;00m:\n\u001b[1;32m    137\u001b[0m     \u001b[38;5;28;01mraise\u001b[39;00m \u001b[38;5;167;01mRuntimeError\u001b[39;00m(\u001b[38;5;124m\"\u001b[39m\u001b[38;5;124mgenerator didn\u001b[39m\u001b[38;5;124m'\u001b[39m\u001b[38;5;124mt yield\u001b[39m\u001b[38;5;124m\"\u001b[39m) \u001b[38;5;28;01mfrom\u001b[39;00m \u001b[38;5;28;01mNone\u001b[39;00m\n",
      "File \u001b[0;32m~/Documents/Uni/Magistrale/Applicazioni_Machine_Learning/Neural-Shrimps/NN-venv/lib/python3.10/site-packages/scipy/io/matlab/_mio.py:17\u001b[0m, in \u001b[0;36m_open_file_context\u001b[0;34m(file_like, appendmat, mode)\u001b[0m\n\u001b[1;32m     15\u001b[0m \u001b[38;5;129m@contextmanager\u001b[39m\n\u001b[1;32m     16\u001b[0m \u001b[38;5;28;01mdef\u001b[39;00m \u001b[38;5;21m_open_file_context\u001b[39m(file_like, appendmat, mode\u001b[38;5;241m=\u001b[39m\u001b[38;5;124m'\u001b[39m\u001b[38;5;124mrb\u001b[39m\u001b[38;5;124m'\u001b[39m):\n\u001b[0;32m---> 17\u001b[0m     f, opened \u001b[38;5;241m=\u001b[39m \u001b[43m_open_file\u001b[49m\u001b[43m(\u001b[49m\u001b[43mfile_like\u001b[49m\u001b[43m,\u001b[49m\u001b[43m \u001b[49m\u001b[43mappendmat\u001b[49m\u001b[43m,\u001b[49m\u001b[43m \u001b[49m\u001b[43mmode\u001b[49m\u001b[43m)\u001b[49m\n\u001b[1;32m     18\u001b[0m     \u001b[38;5;28;01mtry\u001b[39;00m:\n\u001b[1;32m     19\u001b[0m         \u001b[38;5;28;01myield\u001b[39;00m f\n",
      "File \u001b[0;32m~/Documents/Uni/Magistrale/Applicazioni_Machine_Learning/Neural-Shrimps/NN-venv/lib/python3.10/site-packages/scipy/io/matlab/_mio.py:45\u001b[0m, in \u001b[0;36m_open_file\u001b[0;34m(file_like, appendmat, mode)\u001b[0m\n\u001b[1;32m     43\u001b[0m     \u001b[38;5;28;01mif\u001b[39;00m appendmat \u001b[38;5;129;01mand\u001b[39;00m \u001b[38;5;129;01mnot\u001b[39;00m file_like\u001b[38;5;241m.\u001b[39mendswith(\u001b[38;5;124m'\u001b[39m\u001b[38;5;124m.mat\u001b[39m\u001b[38;5;124m'\u001b[39m):\n\u001b[1;32m     44\u001b[0m         file_like \u001b[38;5;241m+\u001b[39m\u001b[38;5;241m=\u001b[39m \u001b[38;5;124m'\u001b[39m\u001b[38;5;124m.mat\u001b[39m\u001b[38;5;124m'\u001b[39m\n\u001b[0;32m---> 45\u001b[0m     \u001b[38;5;28;01mreturn\u001b[39;00m \u001b[38;5;28;43mopen\u001b[39;49m\u001b[43m(\u001b[49m\u001b[43mfile_like\u001b[49m\u001b[43m,\u001b[49m\u001b[43m \u001b[49m\u001b[43mmode\u001b[49m\u001b[43m)\u001b[49m, \u001b[38;5;28;01mTrue\u001b[39;00m\n\u001b[1;32m     46\u001b[0m \u001b[38;5;28;01melse\u001b[39;00m:\n\u001b[1;32m     47\u001b[0m     \u001b[38;5;28;01mraise\u001b[39;00m \u001b[38;5;167;01mOSError\u001b[39;00m(\n\u001b[1;32m     48\u001b[0m         \u001b[38;5;124m'\u001b[39m\u001b[38;5;124mReader needs file name or open file-like object\u001b[39m\u001b[38;5;124m'\u001b[39m\n\u001b[1;32m     49\u001b[0m     ) \u001b[38;5;28;01mfrom\u001b[39;00m \u001b[38;5;21;01me\u001b[39;00m\n",
      "\u001b[0;31mFileNotFoundError\u001b[0m: [Errno 2] No such file or directory: 'MnistConv.mat'"
     ]
    }
   ],
   "source": [
    "import numpy as np\n",
    "import scipy.io as sio\n",
    "import matplotlib.pyplot as plt\n",
    "from scipy.signal import convolve2d\n",
    "\n",
    "# Carica i dati dal file .mat\n",
    "data = sio.loadmat('MnistConv.mat')\n",
    "X = data['X']\n",
    "W1 = data['W1']\n",
    "W5 = data['W5']\n",
    "Wo = data['Wo']\n",
    "\n",
    "def display_network(data, title=''):\n",
    "    fig, ax = plt.subplots()\n",
    "    num_filters = data.shape[1]\n",
    "    filter_size = int(np.sqrt(data.shape[0]))\n",
    "    num_cols = int(np.sqrt(num_filters))\n",
    "    num_rows = (num_filters + num_cols - 1) // num_cols\n",
    "    grid = np.zeros((num_rows * filter_size, num_cols * filter_size))\n",
    "    \n",
    "    for i in range(num_filters):\n",
    "        row = i // num_cols\n",
    "        col = i % num_cols\n",
    "        grid[row*filter_size:(row+1)*filter_size, col*filter_size:(col+1)*filter_size] = data[:, i].reshape((filter_size, filter_size))\n",
    "    \n",
    "    ax.imshow(grid, cmap='gray', interpolation='nearest')\n",
    "    ax.set_title(title)\n",
    "    ax.axis('off')\n",
    "    plt.show()\n",
    "\n",
    "# Esempio di utilizzo\n",
    "k = 1\n",
    "x = X[:, :, k]\n",
    "y1 = Conv(x, W1)\n",
    "y2 = CNN.ReLU(y1)\n",
    "y3 = Pool(y2)\n",
    "y4 = y3.reshape(-1, 1)\n",
    "v5 = np.dot(W5, y4)\n",
    "y5 = CNN.ReLU(v5)\n",
    "v = np.dot(Wo, y5)\n",
    "y = CNN.Softmax(v)\n",
    "\n",
    "# Visualizza l'immagine di input\n",
    "plt.figure()\n",
    "display_network(x.reshape(-1, 1), title='Input Image')\n",
    "\n",
    "# Visualizza i filtri di convoluzione\n",
    "convFilters = np.zeros((9*9, 20))\n",
    "for i in range(20):\n",
    "    filter = W1[:, :, i]\n",
    "    convFilters[:, i] = filter.flatten()\n",
    "\n",
    "plt.figure()\n",
    "display_network(convFilters, title='Convolution Filters')\n",
    "\n",
    "# Visualizza le caratteristiche [Convolution]\n",
    "fList = np.zeros((20*20, 20))\n",
    "for i in range(20):\n",
    "    feature = y1[:, :, i]\n",
    "    fList[:, i] = feature.flatten()\n",
    "\n",
    "plt.figure()\n",
    "display_network(fList, title='Features [Convolution]')\n",
    "\n",
    "# Visualizza le caratteristiche [Convolution + ReLU]\n",
    "fList = np.zeros((20*20, 20))\n",
    "for i in range(20):\n",
    "    feature = y2[:, :, i]\n",
    "    fList[:, i] = feature.flatten()\n",
    "\n",
    "plt.figure()\n",
    "display_network(fList, title='Features [Convolution + ReLU]')\n",
    "\n",
    "# Visualizza le caratteristiche [Convolution + ReLU + MeanPool]\n",
    "fList = np.zeros((10*10, 20))\n",
    "for i in range(20):\n",
    "    feature = y3[:, :, i]\n",
    "    fList[:, i] = feature.flatten()\n",
    "\n",
    "plt.figure()\n",
    "display_network(fList, title='Features [Convolution + ReLU + MeanPool]')\n"
   ]
  },
  {
   "cell_type": "code",
   "execution_count": null,
   "metadata": {},
   "outputs": [],
   "source": []
  }
 ],
 "metadata": {
  "kernelspec": {
   "display_name": "NN-venv",
   "language": "python",
   "name": "python3"
  },
  "language_info": {
   "codemirror_mode": {
    "name": "ipython",
    "version": 3
   },
   "file_extension": ".py",
   "mimetype": "text/x-python",
   "name": "python",
   "nbconvert_exporter": "python",
   "pygments_lexer": "ipython3",
   "version": "3.10.12"
  }
 },
 "nbformat": 4,
 "nbformat_minor": 2
}
