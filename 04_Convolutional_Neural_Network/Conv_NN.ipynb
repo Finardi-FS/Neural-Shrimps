{
 "cells": [
  {
   "cell_type": "markdown",
   "metadata": {},
   "source": [
    "# Convolutional Neural Network"
   ]
  },
  {
   "cell_type": "code",
   "execution_count": null,
   "metadata": {},
   "outputs": [],
   "source": [
    "import numpy as np\n",
    "import pandas as pd\n",
    "from datetime import datetime\n",
    "import jupyprint.jupyprint as jp\n",
    "import matplotlib.pyplot as plt\n",
    "\n",
    "import CNN_class\n",
    "\n",
    "DL = CNN_class.CNN()"
   ]
  },
  {
   "cell_type": "markdown",
   "metadata": {},
   "source": [
    "## Train and Test Mnist Conv"
   ]
  },
  {
   "cell_type": "code",
   "execution_count": null,
   "metadata": {},
   "outputs": [],
   "source": [
    "import numpy as np\n",
    "\n",
    "# Load data\n",
    "Images = loadMNISTImages('MNIST/t10k-images.idx3-ubyte')\n",
    "Labels = loadMNISTLabels('MNIST/t10k-labels.idx1-ubyte')\n",
    "\n",
    "np.random.seed(1)\n",
    "\n",
    "W1 = 1e-2 * np.random.randn(9, 9, 20)\n",
    "W5 = (2 * np.random.rand(100, 2000) - 1) * np.sqrt(6) / np.sqrt(360 + 2000)\n",
    "Wo = (2 * np.random.rand(10, 100) - 1) * np.sqrt(6) / np.sqrt(10 + 100)\n",
    "\n",
    "X = Images[:, :, :7000]\n",
    "D = Labels[:7000]\n",
    "\n",
    "# Training\n",
    "for epoch in range(10):\n",
    "    print(\"Epoch:\", epoch + 1)\n",
    "    W1, W5, Wo = SGD_MnistConv(W1, W5, Wo, X, D)\n",
    "\n",
    "# Save model weights\n",
    "with h5py.File('MnistConv.h5', 'w') as hf:\n",
    "    hf.create_dataset('W1', data=W1)\n",
    "    hf.create_dataset('W5', data=W5)\n",
    "    hf.create_dataset('Wo', data=Wo)\n",
    "\n",
    "# Evaluation\n",
    "X_test = Images[:, :, 7001:10000]\n",
    "D_test = Labels[7001:10000]\n",
    "acc = 0\n",
    "N = len(D_test)\n",
    "\n",
    "for k in range(N):\n",
    "    print(\"Sample:\", k + 1)\n",
    "    x = X_test[:, :, k]\n",
    "    y1 = Conv(x, W1)\n",
    "    y2 = ReLU(y1)\n",
    "    y3 = Pool(y2)\n",
    "    y4 = y3.flatten()\n",
    "    v5 = np.dot(W5, y4)\n",
    "    y5 = ReLU(v5)\n",
    "    v = np.dot(Wo, y5)\n",
    "    y = Softmax(v)\n",
    "    \n",
    "    i = np.argmax(y)\n",
    "    if i == D_test[k]:\n",
    "        acc += 1\n",
    "\n",
    "acc = acc / N\n",
    "print('Accuracy is %f' % acc)\n"
   ]
  },
  {
   "cell_type": "raw",
   "metadata": {
    "vscode": {
     "languageId": "raw"
    }
   },
   "source": [
    "loadMNISTImages.m\n",
    "\n",
    "THE IDX FILE FORMAT\n",
    "the IDX file format is a simple format for vectors and multidimensional matrices of various numerical types.\n",
    "The basic format is\n",
    "\n",
    "magic number\n",
    "size in dimension 0\n",
    "size in dimension 1\n",
    "size in dimension 2\n",
    ".....\n",
    "size in dimension N\n",
    "data\n",
    "\n",
    "The magic number is an integer (MSB first). The first 2 bytes are always 0.\n",
    "\n",
    "The third byte codes the type of the data:\n",
    "0x08: unsigned byte\n",
    "0x09: signed byte\n",
    "0x0B: short (2 bytes)\n",
    "0x0C: int (4 bytes)\n",
    "0x0D: float (4 bytes)\n",
    "0x0E: double (8 bytes)\n",
    "\n",
    "The 4-th byte codes the number of dimensions of the vector/matrix: 1 for vectors, 2 for matrices....\n",
    "\n",
    "The sizes in each dimension are 4-byte integers (MSB first, high endian, like in most non-Intel processors).\n",
    "\n",
    "The data is stored like in a C array, i.e. the index in the last dimension changes the fastest.\n",
    " \n",
    " \n",
    "Happy hacking."
   ]
  },
  {
   "cell_type": "code",
   "execution_count": 8,
   "metadata": {},
   "outputs": [],
   "source": [
    "import numpy as np\n",
    "import gzip\n",
    "\n",
    "def load_MNIST_images(filename):\n",
    "\twith gzip.open(filename, 'r') as f:\n",
    "\t\t# first 4 bytes is a magic number\n",
    "\t\tmagic_number    = int.from_bytes(f.read(4), 'big')\n",
    "\t\t# second 4 bytes is the number of images\n",
    "\t\timage_count     = int.from_bytes(f.read(4), 'big')\n",
    "\t\t# third 4 bytes is the row count\n",
    "\t\trow_count       = int.from_bytes(f.read(4), 'big')\n",
    "\t\t# fourth 4 bytes is the column count\n",
    "\t\tcolumn_count    = int.from_bytes(f.read(4), 'big')\n",
    "\t\t\n",
    "\t\t# rest is the image pixel data, each pixel is stored as an unsigned byte\n",
    "\t\t# pixel values are 0 to 255\n",
    "\t\timages = np.frombuffer(f.read(), dtype=np.uint8)\\\n",
    "\t\t\t.reshape((image_count, row_count, column_count))\n",
    "\t# images.shape --> (10000, 28, 28)\n",
    "\treturn images\n",
    "\n",
    "\n",
    "def load_MNIST_labels(filename):\n",
    "\twith gzip.open(filename, 'r') as f:\n",
    "\t\t# first 4 bytes is a magic number\n",
    "\t\tmagic_number    = int.from_bytes(f.read(4), 'big')\n",
    "\t\t# second 4 bytes is the number of labels\n",
    "\t\tlabel_count     = int.from_bytes(f.read(4), 'big')\n",
    "\t\t\n",
    "\t\t# rest is the label data, each label is stored as unsigned byte\n",
    "\t\t# label values are 0 to 9\n",
    "\t\tlabel_data      = f.read()\n",
    "\t\tlabels = np.frombuffer(label_data, dtype=np.uint8)\n",
    "\t# labels.shape --> (10000,)\n",
    "\treturn labels\n",
    "\n",
    "images = load_MNIST_images('t10k-images-idx3-ubyte.gz')\n",
    "labels = load_MNIST_labels('t10k-labels-idx1-ubyte.gz')"
   ]
  },
  {
   "cell_type": "code",
   "execution_count": 9,
   "metadata": {},
   "outputs": [
    {
     "name": "stdout",
     "output_type": "stream",
     "text": [
      "images shape (10000, 28, 28)\n",
      "labels shape (10000,)\n"
     ]
    }
   ],
   "source": [
    "print('images shape', images.shape)\n",
    "print('labels shape', labels.shape)"
   ]
  },
  {
   "cell_type": "code",
   "execution_count": 12,
   "metadata": {},
   "outputs": [
    {
     "data": {
      "image/png": "[encoded data removed]",
      "text/plain": [
       "<Figure size 640x480 with 1 Axes>"
      ]
     },
     "metadata": {},
     "output_type": "display_data"
    }
   ],
   "source": [
    "import matplotlib.pyplot as plt\n",
    "# image = np.asarray(images[0]).squeeze()\n",
    "plt.imshow(images[9999])\n",
    "plt.show()"
   ]
  },
  {
   "cell_type": "markdown",
   "metadata": {},
   "source": [
    "Pool"
   ]
  },
  {
   "cell_type": "code",
   "execution_count": null,
   "metadata": {},
   "outputs": [],
   "source": [
    "def Pool(x):\n",
    "    xrow, xcol, numFilters = x.shape\n",
    "    y = np.zeros((xrow // 2, xcol // 2, numFilters))\n",
    "    \n",
    "    for k in range(numFilters):\n",
    "        filter = np.ones((2, 2)) / 4  # Creiamo un filtro di media 2x2\n",
    "        image = convolve2d(x[:, :, k], filter, mode='valid')  # Calcoliamo la media su 4 pixel\n",
    "        y[:, :, k] = image[::2, ::2]  # Prendiamo la media e la mettiamo in un pixel ogni 4\n",
    "     \n",
    "    return y\n",
    "\n",
    "# Esempio di utilizzo:\n",
    "x = np.random.rand(6, 6, 3)  # Creiamo un esempio di input 6x6 con 3 filtri\n",
    "y = pool(x)\n",
    "print(y)\n"
   ]
  }
 ],
 "metadata": {
  "kernelspec": {
   "display_name": "NN-venv",
   "language": "python",
   "name": "nn-venv"
  },
  "language_info": {
   "codemirror_mode": {
    "name": "ipython",
    "version": 3
   },
   "file_extension": ".py",
   "mimetype": "text/x-python",
   "name": "python",
   "nbconvert_exporter": "python",
   "pygments_lexer": "ipython3",
   "version": "3.12.0"
  }
 },
 "nbformat": 4,
 "nbformat_minor": 2
}
