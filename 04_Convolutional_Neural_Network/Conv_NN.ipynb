{
 "cells": [
  {
   "cell_type": "markdown",
   "metadata": {},
   "source": [
    "# Convolutional Neural Network"
   ]
  },
  {
   "cell_type": "markdown",
   "metadata": {},
   "source": [
    "## Load data"
   ]
  },
  {
   "cell_type": "code",
   "execution_count": 1,
   "metadata": {},
   "outputs": [],
   "source": [
    "import sys\n",
    "sys.path.insert(1, '../00_Classes')\n",
    "import numpy as np\n",
    "import pandas as pd\n",
    "from datetime import datetime\n",
    "import jupyprint.jupyprint as jp\n",
    "import matplotlib.pyplot as plt\n",
    "\n",
    "import CNN_Class\n",
    "\n",
    "CNN = CNN_Class.MyCNN()"
   ]
  },
  {
   "cell_type": "raw",
   "metadata": {
    "vscode": {
     "languageId": "raw"
    }
   },
   "source": [
    "loadMNISTImages.m\n",
    "\n",
    "THE IDX FILE FORMAT\n",
    "the IDX file format is a simple format for vectors and multidimensional matrices of various numerical types.\n",
    "The basic format is\n",
    "\n",
    "magic number\n",
    "size in dimension 0\n",
    "size in dimension 1\n",
    "size in dimension 2\n",
    ".....\n",
    "size in dimension N\n",
    "data\n",
    "\n",
    "The magic number is an integer (MSB first). The first 2 bytes are always 0.\n",
    "\n",
    "The third byte codes the type of the data:\n",
    "0x08: unsigned byte\n",
    "0x09: signed byte\n",
    "0x0B: short (2 bytes)\n",
    "0x0C: int (4 bytes)\n",
    "0x0D: float (4 bytes)\n",
    "0x0E: double (8 bytes)\n",
    "\n",
    "The 4-th byte codes the number of dimensions of the vector/matrix: 1 for vectors, 2 for matrices....\n",
    "\n",
    "The sizes in each dimension are 4-byte integers (MSB first, high endian, like in most non-Intel processors).\n",
    "\n",
    "The data is stored like in a C array, i.e. the index in the last dimension changes the fastest.\n",
    " \n",
    " \n",
    "Happy hacking."
   ]
  },
  {
   "cell_type": "code",
   "execution_count": 2,
   "metadata": {},
   "outputs": [],
   "source": [
    "import numpy as np\n",
    "import gzip\n",
    "\n",
    "def load_MNIST_images(filename):\n",
    "\twith gzip.open(filename, 'r') as f:\n",
    "\t\t# first 4 bytes is a magic number\n",
    "\t\tmagic_number    = int.from_bytes(f.read(4), 'big')\n",
    "\t\t# second 4 bytes is the number of images\n",
    "\t\timage_count     = int.from_bytes(f.read(4), 'big')\n",
    "\t\t# third 4 bytes is the row count\n",
    "\t\trow_count       = int.from_bytes(f.read(4), 'big')\n",
    "\t\t# fourth 4 bytes is the column count\n",
    "\t\tcolumn_count    = int.from_bytes(f.read(4), 'big')\n",
    "\t\t\n",
    "\t\t# rest is the image pixel data, each pixel is stored as an unsigned byte\n",
    "\t\t# pixel values are 0 to 255\n",
    "\t\timages = np.frombuffer(f.read(), dtype=np.uint8)\\\n",
    "\t\t\t.reshape((image_count, row_count, column_count))\n",
    "\t# images.shape --> (10000, 28, 28)\n",
    "\treturn images\n",
    "\n",
    "\n",
    "def load_MNIST_labels(filename):\n",
    "\twith gzip.open(filename, 'r') as f:\n",
    "\t\t# first 4 bytes is a magic number\n",
    "\t\tmagic_number    = int.from_bytes(f.read(4), 'big')\n",
    "\t\t# second 4 bytes is the number of labels\n",
    "\t\tlabel_count     = int.from_bytes(f.read(4), 'big')\n",
    "\t\t\n",
    "\t\t# rest is the label data, each label is stored as unsigned byte\n",
    "\t\t# label values are 0 to 9\n",
    "\t\tlabel_data      = f.read()\n",
    "\t\tlabels = np.frombuffer(label_data, dtype=np.uint8)\n",
    "\t# labels.shape --> (10000,)\n",
    "\treturn labels\n",
    "\n",
    "# Load data\n",
    "images = CNN.load_MNIST_images('MNIST_data/t10k-images-idx3-ubyte.gz')\n",
    "labels = CNN.load_MNIST_labels('MNIST_data/t10k-labels-idx1-ubyte.gz')"
   ]
  },
  {
   "cell_type": "code",
   "execution_count": 3,
   "metadata": {},
   "outputs": [
    {
     "name": "stdout",
     "output_type": "stream",
     "text": [
      "images shape (10000, 28, 28)\n",
      "labels shape (10000,)\n"
     ]
    }
   ],
   "source": [
    "print('images shape', images.shape)\n",
    "print('labels shape', labels.shape)"
   ]
  },
  {
   "cell_type": "code",
   "execution_count": 4,
   "metadata": {},
   "outputs": [
    {
     "data": {
      "image/png": "[encoded data removed]",
      "text/plain": [
       "<Figure size 640x480 with 1 Axes>"
      ]
     },
     "metadata": {},
     "output_type": "display_data"
    }
   ],
   "source": [
    "import matplotlib.pyplot as plt\n",
    "# image = np.asarray(images[0]).squeeze()\n",
    "plt.imshow(images[9999])\n",
    "plt.show()"
   ]
  },
  {
   "cell_type": "markdown",
   "metadata": {},
   "source": [
    "## Pool\n",
    "\n",
    "provare filtro max"
   ]
  },
  {
   "cell_type": "code",
   "execution_count": 5,
   "metadata": {},
   "outputs": [
    {
     "name": "stdout",
     "output_type": "stream",
     "text": [
      "[[[0. 0. 0.]\n",
      "  [1. 1. 1.]\n",
      "  [1. 1. 1.]\n",
      "  [0. 0. 0.]\n",
      "  [0. 0. 0.]\n",
      "  [1. 1. 1.]]\n",
      "\n",
      " [[0. 0. 0.]\n",
      "  [0. 0. 0.]\n",
      "  [1. 1. 1.]\n",
      "  [0. 0. 0.]\n",
      "  [0. 0. 0.]\n",
      "  [0. 0. 0.]]\n",
      "\n",
      " [[0. 0. 0.]\n",
      "  [0. 0. 0.]\n",
      "  [0. 0. 0.]\n",
      "  [0. 0. 0.]\n",
      "  [0. 0. 0.]\n",
      "  [0. 0. 0.]]\n",
      "\n",
      " [[0. 0. 0.]\n",
      "  [0. 0. 0.]\n",
      "  [0. 0. 0.]\n",
      "  [2. 2. 2.]\n",
      "  [0. 0. 0.]\n",
      "  [0. 0. 0.]]\n",
      "\n",
      " [[0. 0. 0.]\n",
      "  [0. 0. 0.]\n",
      "  [0. 0. 0.]\n",
      "  [2. 2. 2.]\n",
      "  [0. 0. 0.]\n",
      "  [0. 0. 0.]]\n",
      "\n",
      " [[0. 0. 0.]\n",
      "  [0. 0. 0.]\n",
      "  [0. 0. 0.]\n",
      "  [2. 2. 2.]\n",
      "  [0. 0. 0.]\n",
      "  [0. 0. 0.]]]\n",
      "[[[0.25 0.25 0.25]\n",
      "  [0.5  0.5  0.5 ]\n",
      "  [0.25 0.25 0.25]]\n",
      "\n",
      " [[0.   0.   0.  ]\n",
      "  [0.5  0.5  0.5 ]\n",
      "  [0.   0.   0.  ]]\n",
      "\n",
      " [[0.   0.   0.  ]\n",
      "  [1.   1.   1.  ]\n",
      "  [0.   0.   0.  ]]]\n"
     ]
    }
   ],
   "source": [
    "from scipy.signal import convolve2d\n",
    "\n",
    "def Pool(x):\n",
    "    xrow, xcol, numFilters = x.shape\n",
    "    y = np.zeros((xrow // 2, xcol // 2, numFilters))  # Divisione intera per 2\n",
    "    \n",
    "    for k in range(numFilters):\n",
    "        filter = np.ones((2, 2)) / (2 * 2)\n",
    "        image = convolve2d(x[:, :, k], filter, mode='valid')\n",
    "        y[:, :, k] = image[0::2, 0::2]  # prendo la media e la metto nel pixel che scelgo ogni 4\n",
    "        \n",
    "    return y\n",
    "\n",
    "# Esempio di utilizzo:\n",
    "x = np.zeros((6, 6, 3))\n",
    "\n",
    "for i in range(6) :\n",
    "    for j in range(6):\n",
    "        if i < 3 & j < 3:\n",
    "            x[i,j,:] = 1\n",
    "        elif i >= 3 & j >= 3:\n",
    "            x[i,j,:] = 2\n",
    "\n",
    "y = Pool(x)\n",
    "print(x)\n",
    "print(y)\n"
   ]
  },
  {
   "cell_type": "markdown",
   "metadata": {},
   "source": [
    "## conv"
   ]
  },
  {
   "cell_type": "code",
   "execution_count": 6,
   "metadata": {},
   "outputs": [
    {
     "name": "stdout",
     "output_type": "stream",
     "text": [
      "W  [[[1. 1. 1.]\n",
      "  [1. 1. 1.]]\n",
      "\n",
      " [[1. 1. 1.]\n",
      "  [1. 1. 1.]]]\n",
      "x  [[1. 1. 1. 3. 3. 3.]\n",
      " [1. 1. 1. 3. 3. 3.]\n",
      " [1. 1. 1. 3. 3. 3.]\n",
      " [0. 0. 0. 2. 2. 2.]\n",
      " [0. 0. 0. 2. 2. 2.]\n",
      " [0. 0. 0. 2. 2. 2.]]\n",
      "y  [[ 4.  4.  8. 12. 12.]\n",
      " [ 4.  4.  8. 12. 12.]\n",
      " [ 2.  2.  6. 10. 10.]\n",
      " [ 0.  0.  4.  8.  8.]\n",
      " [ 0.  0.  4.  8.  8.]]\n"
     ]
    }
   ],
   "source": [
    "def Conv(x, W):\n",
    "    wrow, wcol, numFilters = W.shape\n",
    "    xrow, xcol = x.shape\n",
    "\n",
    "    yrow = xrow - wrow + 1\n",
    "    ycol = xcol - wcol + 1\n",
    "\n",
    "    y = np.zeros((yrow, ycol, numFilters))\n",
    "\n",
    "    for k in range(numFilters):\n",
    "        filter = W[:, :, k]\n",
    "        #filter = np.rot90(filter, 2)\n",
    "        y[:, :, k] = convolve2d(x[:, :], filter, mode='valid')\n",
    "\n",
    "    return y\n",
    "\n",
    "# Esempio di utilizzo:\n",
    "x = np.zeros((6, 6))\n",
    "\n",
    "for i in range(6) :\n",
    "    for j in range(6):\n",
    "        if i < 3 and j < 3:\n",
    "            x[i,j] = 1\n",
    "        elif i >= 3 and j >= 3:\n",
    "            x[i,j] = 2\n",
    "        elif i < 3 and j >= 3:\n",
    "            x[i,j] = 3\n",
    "\n",
    "\n",
    "W = np.ones((2, 2, 3))\n",
    "\n",
    "y = Conv(x, W)\n",
    "\n",
    "print('W ', W)\n",
    "print('x ', x[:,:])\n",
    "print('y ', y[:,:,0])"
   ]
  },
  {
   "cell_type": "markdown",
   "metadata": {},
   "source": [
    "## Train and Test Mnist Conv"
   ]
  },
  {
   "cell_type": "code",
   "execution_count": 7,
   "metadata": {},
   "outputs": [
    {
     "name": "stdout",
     "output_type": "stream",
     "text": [
      "Epoch: 1\n"
     ]
    },
    {
     "ename": "NameError",
     "evalue": "name 'SGD_MnistConv' is not defined",
     "output_type": "error",
     "traceback": [
      "\u001b[0;31m---------------------------------------------------------------------------\u001b[0m",
      "\u001b[0;31mNameError\u001b[0m                                 Traceback (most recent call last)",
      "Cell \u001b[0;32mIn[7], line 13\u001b[0m\n\u001b[1;32m     11\u001b[0m \u001b[38;5;28;01mfor\u001b[39;00m epoch \u001b[38;5;129;01min\u001b[39;00m \u001b[38;5;28mrange\u001b[39m(\u001b[38;5;241m10\u001b[39m):\n\u001b[1;32m     12\u001b[0m     \u001b[38;5;28mprint\u001b[39m(\u001b[38;5;124m\"\u001b[39m\u001b[38;5;124mEpoch:\u001b[39m\u001b[38;5;124m\"\u001b[39m, epoch \u001b[38;5;241m+\u001b[39m \u001b[38;5;241m1\u001b[39m)\n\u001b[0;32m---> 13\u001b[0m     W1, W5, Wo \u001b[38;5;241m=\u001b[39m \u001b[43mSGD_MnistConv\u001b[49m(W1, W5, Wo, X, D)\n\u001b[1;32m     15\u001b[0m \u001b[38;5;66;03m# Save model weights\u001b[39;00m\n\u001b[1;32m     16\u001b[0m \u001b[38;5;66;03m#with h5py.File('MnistConv.h5', 'w') as hf:\u001b[39;00m\n\u001b[1;32m     17\u001b[0m \u001b[38;5;66;03m#    hf.create_dataset('W1', data=W1)\u001b[39;00m\n\u001b[0;32m   (...)\u001b[0m\n\u001b[1;32m     20\u001b[0m \n\u001b[1;32m     21\u001b[0m \u001b[38;5;66;03m# Evaluation\u001b[39;00m\n\u001b[1;32m     22\u001b[0m X_test \u001b[38;5;241m=\u001b[39m images[:, :, \u001b[38;5;241m7001\u001b[39m:\u001b[38;5;241m10000\u001b[39m]\n",
      "\u001b[0;31mNameError\u001b[0m: name 'SGD_MnistConv' is not defined"
     ]
    }
   ],
   "source": [
    "np.random.seed(1)\n",
    "\n",
    "W1 = 1e-2 * np.random.randn(9, 9, 20)\n",
    "W5 = (2 * np.random.rand(100, 2000) - 1) * np.sqrt(6) / np.sqrt(360 + 2000)\n",
    "Wo = (2 * np.random.rand(10, 100) - 1) * np.sqrt(6) / np.sqrt(10 + 100)\n",
    "\n",
    "X = images[:, :, :7000]\n",
    "D = labels[:7000]\n",
    "\n",
    "# Training\n",
    "for epoch in range(10):\n",
    "    print(\"Epoch:\", epoch + 1)\n",
    "    W1, W5, Wo = SGD_MnistConv(W1, W5, Wo, X, D)\n",
    "\n",
    "# Save model weights\n",
    "#with h5py.File('MnistConv.h5', 'w') as hf:\n",
    "#    hf.create_dataset('W1', data=W1)\n",
    "#    hf.create_dataset('W5', data=W5)\n",
    "#    hf.create_dataset('Wo', data=Wo)\n",
    "\n",
    "# Evaluation\n",
    "X_test = images[:, :, 7001:10000]\n",
    "D_test = labels[7001:10000]\n",
    "acc = 0\n",
    "N = len(D_test)\n",
    "\n",
    "for k in range(N):\n",
    "    print(\"Sample:\", k + 1)\n",
    "    x = X_test[:, :, k]\n",
    "    y1 = Conv(x, W1)\n",
    "    y2 = CNN.ReLU(y1)\n",
    "    y3 = Pool(y2)\n",
    "    y4 = y3.flatten()\n",
    "    v5 = np.dot(W5, y4)\n",
    "    y5 = CNN.ReLU(v5)\n",
    "    v = np.dot(Wo, y5)\n",
    "    y = CNN.Softmax(v)\n",
    "    \n",
    "    i = np.argmax(y)\n",
    "    if i == D_test[k]:\n",
    "        acc += 1\n",
    "\n",
    "acc = acc / N\n",
    "print('Accuracy is %f' % acc)\n"
   ]
  },
  {
   "cell_type": "markdown",
   "metadata": {},
   "source": [
    "## display_network"
   ]
  },
  {
   "cell_type": "code",
   "execution_count": null,
   "metadata": {},
   "outputs": [],
   "source": [
    "import numpy as np\n",
    "import matplotlib.pyplot as plt\n",
    "\n",
    "def display_network(A, title, opt_normalize=True, opt_graycolor=True, cols=None, opt_colmajor=False):\n",
    "    # Disabilita i warning (equivalente in Python)\n",
    "    import warnings\n",
    "    warnings.filterwarnings(\"ignore\")\n",
    "\n",
    "    # Sostituisce il valore predefinito per la normalizzazione\n",
    "    if opt_normalize is None:\n",
    "        opt_normalize = True\n",
    "\n",
    "    if opt_graycolor is None:\n",
    "        opt_graycolor = True\n",
    "\n",
    "    if opt_colmajor is None:\n",
    "        opt_colmajor = False\n",
    "\n",
    "    # Sottrae la media\n",
    "    A = A - np.mean(A)\n",
    "\n",
    "    # Imposta la mappa di colori in scala di grigi se richiesto\n",
    "    if opt_graycolor:\n",
    "        plt.set_cmap('gray')\n",
    "\n",
    "    L, M = A.shape\n",
    "    sz = int(np.sqrt(L))\n",
    "    buf = 1\n",
    "\n",
    "    if cols is None:\n",
    "        if int(np.sqrt(M))**2 != M:\n",
    "            n = int(np.ceil(np.sqrt(M)))\n",
    "            while M % n != 0 and n < 1.2 * np.sqrt(M):\n",
    "                n += 1\n",
    "            m = int(np.ceil(M / n))\n",
    "        else:\n",
    "            n = int(np.sqrt(M))\n",
    "            m = n\n",
    "    else:\n",
    "        n = cols\n",
    "        m = int(np.ceil(M / n))\n",
    "\n",
    "    array = -np.ones((buf + m * (sz + buf), buf + n * (sz + buf)))\n",
    "\n",
    "    if not opt_colmajor:\n",
    "        k = 0\n",
    "        for i in range(m):\n",
    "            for j in range(n):\n",
    "                if k >= M:\n",
    "                    continue\n",
    "                clim = np.max(np.abs(A[:, k]))\n",
    "                if opt_normalize:\n",
    "                    array[buf + i * (sz + buf):buf + i * (sz + buf) + sz,\n",
    "                          buf + j * (sz + buf):buf + j * (sz + buf) + sz] = A[:, k].reshape(sz, sz) / clim\n",
    "                else:\n",
    "                    array[buf + i * (sz + buf):buf + i * (sz + buf) + sz,\n",
    "                          buf + j * (sz + buf):buf + j * (sz + buf) + sz] = A[:, k].reshape(sz, sz) / np.max(np.abs(A))\n",
    "                k += 1\n",
    "    else:\n",
    "        k = 0\n",
    "        for j in range(n):\n",
    "            for i in range(m):\n",
    "                if k >= M:\n",
    "                    continue\n",
    "                clim = np.max(np.abs(A[:, k]))\n",
    "                if opt_normalize:\n",
    "                    array[buf + i * (sz + buf):buf + i * (sz + buf) + sz,\n",
    "                          buf + j * (sz + buf):buf + j * (sz + buf) + sz] = A[:, k].reshape(sz, sz) / clim\n",
    "                else:\n",
    "                    array[buf + i * (sz + buf):buf + i * (sz + buf) + sz,\n",
    "                          buf + j * (sz + buf):buf + j * (sz + buf) + sz] = A[:, k].reshape(sz, sz)\n",
    "                k += 1\n",
    "\n",
    "    plt.imshow(array, vmin=-1, vmax=1)\n",
    "    plt.axis('off')\n",
    "    plt.title(title)\n",
    "    plt.show()\n",
    "\n",
    "    # Riabilita i warning\n",
    "    warnings.filterwarnings(\"default\")"
   ]
  },
  {
   "cell_type": "markdown",
   "metadata": {},
   "source": [
    "plot features"
   ]
  },
  {
   "cell_type": "code",
   "execution_count": null,
   "metadata": {},
   "outputs": [
    {
     "data": {
      "image/png": "[encoded data removed]",
      "text/plain": [
       "<Figure size 640x480 with 1 Axes>"
      ]
     },
     "metadata": {},
     "output_type": "display_data"
    },
    {
     "name": "stdout",
     "output_type": "stream",
     "text": [
      "(784, 1) (28, 28)\n"
     ]
    },
    {
     "data": {
      "image/png": "[encoded data removed]",
      "text/plain": [
       "<Figure size 640x480 with 1 Axes>"
      ]
     },
     "metadata": {},
     "output_type": "display_data"
    },
    {
     "data": {
      "image/png": "[encoded data removed]",
      "text/plain": [
       "<Figure size 640x480 with 1 Axes>"
      ]
     },
     "metadata": {},
     "output_type": "display_data"
    },
    {
     "data": {
      "image/png": "[encoded data removed]",
      "text/plain": [
       "<Figure size 640x480 with 1 Axes>"
      ]
     },
     "metadata": {},
     "output_type": "display_data"
    },
    {
     "data": {
      "image/png": "[encoded data removed]",
      "text/plain": [
       "<Figure size 640x480 with 1 Axes>"
      ]
     },
     "metadata": {},
     "output_type": "display_data"
    }
   ],
   "source": [
    "import numpy as np\n",
    "import scipy.io as sio\n",
    "import matplotlib.pyplot as plt\n",
    "from scipy.signal import convolve2d\n",
    "\n",
    "# Carica i dati dal file .mat\n",
    "data = sio.loadmat('MnistConv.mat')\n",
    "X = data['X']\n",
    "W1 = data['W1']\n",
    "W5 = data['W5']\n",
    "Wo = data['Wo']\n",
    "\n",
    "# Esempio di utilizzo\n",
    "k = 1\n",
    "x = X[:, :, k]\n",
    "y1 = Conv(x, W1)\n",
    "y2 = CNN.ReLU(y1)\n",
    "y3 = Pool(y2)\n",
    "y4 = y3.reshape(-1, 1)\n",
    "v5 = np.dot(W5, y4)\n",
    "y5 = CNN.ReLU(v5)\n",
    "v = np.dot(Wo, y5)\n",
    "y = CNN.Softmax(v)\n",
    "\n",
    "F = 20 \n",
    "# Visualizza l'immagine di input\n",
    "plt.figure()\n",
    "display_network(x.reshape(-1, 1), title='Input Image')\n",
    "print(x.reshape(-1, 1).shape, x.shape)\n",
    "\n",
    "# Visualizza i filtri di convoluzione\n",
    "convFilters = np.zeros((9*9, F))\n",
    "for i in range(F):\n",
    "    filter = W1[:, :, i]\n",
    "    convFilters[:, i] = filter.flatten()\n",
    "\n",
    "plt.figure()\n",
    "display_network(convFilters, title='Convolution Filters')\n",
    "\n",
    "# Visualizza le caratteristiche [Convolution]\n",
    "fList = np.zeros((20*20, F))\n",
    "for i in range(F):\n",
    "    feature = y1[:, :, i]\n",
    "    fList[:, i] = feature.flatten()\n",
    "\n",
    "plt.figure()\n",
    "display_network(fList, title='Features [Convolution]')\n",
    "\n",
    "# Visualizza le caratteristiche [Convolution + ReLU]\n",
    "fList = np.zeros((20*20, F))\n",
    "for i in range(F):\n",
    "    feature = y2[:, :, i]\n",
    "    fList[:, i] = feature.flatten()\n",
    "\n",
    "plt.figure()\n",
    "display_network(fList, title='Features [Convolution + ReLU]')\n",
    "\n",
    "# Visualizza le caratteristiche [Convolution + ReLU + MeanPool]\n",
    "fList = np.zeros((10*10, F))\n",
    "for i in range(F):\n",
    "    feature = y3[:, :, i]\n",
    "    fList[:, i] = feature.flatten()\n",
    "\n",
    "plt.figure()\n",
    "display_network(fList, title='Features [Convolution + ReLU + MeanPool]')\n"
   ]
  }
 ],
 "metadata": {
  "kernelspec": {
   "display_name": "NN-venv",
   "language": "python",
   "name": "python3"
  },
  "language_info": {
   "codemirror_mode": {
    "name": "ipython",
    "version": 3
   },
   "file_extension": ".py",
   "mimetype": "text/x-python",
   "name": "python",
   "nbconvert_exporter": "python",
   "pygments_lexer": "ipython3",
   "version": "3.10.12"
  }
 },
 "nbformat": 4,
 "nbformat_minor": 2
}
